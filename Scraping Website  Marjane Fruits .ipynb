{
 "cells": [
  {
   "cell_type": "markdown",
   "id": "f8748d3b",
   "metadata": {},
   "source": [
    "# <span style=\"color:OrangeRed\"> <span  style=\"font-family:Times New Roman\"> *Scraping Website  : \" Marjane \" / Category : \"Marché - Fruits & Légumes - Fruits\"*</span> </span>"
   ]
  },
  {
   "cell_type": "markdown",
   "id": "b1f691a8",
   "metadata": {},
   "source": [
    "## <span  style=\"font-family:arial\"><a href=\"https://www.marjane.ma/product/271-fruits\">*Link of website : Marjane - Fruits*<a></span>"
   ]
  },
  {
   "cell_type": "markdown",
   "id": "ae138ee4",
   "metadata": {},
   "source": [
    "# <img src=\"https://www.marjane.ma/icons/logo_marjane.svg\" width=\"200\" height=\"20\">"
   ]
  },
  {
   "cell_type": "markdown",
   "id": "b1e66098",
   "metadata": {},
   "source": [
    "## <span style=\"color:fuchsia\"> <span  style=\"font-family:Times New Roman\"> *Imports librairies*</span> </span>"
   ]
  },
  {
   "cell_type": "code",
   "execution_count": 149,
   "id": "9a2e92fc",
   "metadata": {},
   "outputs": [],
   "source": [
    "import pandas as pd\n",
    "from selenium import webdriver\n",
    "from selenium.webdriver.common.keys import Keys\n",
    "from selenium.webdriver.support import expected_conditions as EC\n",
    "from selenium.webdriver.common.by import By\n",
    "from selenium.webdriver.support.wait import WebDriverWait\n",
    "from webdriver_manager.chrome import ChromeDriverManager\n",
    "import time\n",
    "import os"
   ]
  },
  {
   "cell_type": "markdown",
   "id": "f5b62502",
   "metadata": {},
   "source": [
    "## <span style=\"color:fuchsia\"> <span  style=\"font-family:Times New Roman\"> *Access Website*</span> </span>"
   ]
  },
  {
   "cell_type": "code",
   "execution_count": 150,
   "id": "bc4547cc",
   "metadata": {},
   "outputs": [],
   "source": [
    "driver=webdriver.Chrome('C:/webdrivers/chromedriver.exe')\n",
    "driver.get('https://www.marjane.ma/product/271-fruits')"
   ]
  },
  {
   "cell_type": "markdown",
   "id": "33c7149a",
   "metadata": {},
   "source": [
    "## <span style=\"color:RoyalBlue\"> <span  style=\"font-family:Times New Roman\"><u> *Scraping Process*</u></span> </span>"
   ]
  },
  {
   "cell_type": "markdown",
   "id": "33029292",
   "metadata": {},
   "source": [
    "## <span style=\"color:OrangeRed\"> <span  style=\"font-family:Times New Roman\"> *Locate Specific Information*</span> </span>"
   ]
  },
  {
   "cell_type": "markdown",
   "id": "d8c98301",
   "metadata": {},
   "source": [
    "### <span style=\"color:fuchsia\"> <span  style=\"font-family:arial\"> *List of Fruits links*</span> </span>"
   ]
  },
  {
   "cell_type": "code",
   "execution_count": 151,
   "id": "8ef0cc3c",
   "metadata": {},
   "outputs": [],
   "source": [
    "fruits_url= driver.find_elements_by_xpath('//li[@class=\"jsx-3156156815 jsx-2850944645\"]/div/a')\n",
    "urls=[]\n",
    "for i in range(len(fruits_url)):\n",
    "    urls.append(fruits_url[i].get_attribute(\"href\"))"
   ]
  },
  {
   "cell_type": "markdown",
   "id": "99bd94b3",
   "metadata": {},
   "source": [
    "### <span style=\"color:fuchsia\"> <span  style=\"font-family:arial\"> *Get more informations (name, price and description) of each fruit*</span> </span>"
   ]
  },
  {
   "cell_type": "code",
   "execution_count": 152,
   "id": "db4d4c96",
   "metadata": {},
   "outputs": [],
   "source": [
    "fruits_name=[]\n",
    "fruits_price=[]\n",
    "fruits_desc=[]\n",
    "for j in range(len(urls)): \n",
    "    driver.get(urls[j])\n",
    "    time.sleep(3)\n",
    "    fruit_name=driver.find_elements_by_xpath('//*[@id=\"content\"]/div/div[3]/aside/div[1]/h2')\n",
    "    fruits_name.append(fruit_name[0].text)\n",
    "    fruit_price=driver.find_elements_by_xpath('//*[@id=\"content\"]/div/div[3]/aside/section/span')\n",
    "    fruits_price.append(fruit_price[0].text)\n",
    "    fruit_desc=driver.find_elements_by_xpath('//*[@id=\"content\"]/div/div[3]/section/div/p')\n",
    "    fruits_desc.append((fruit_desc[0].text).replace('\\n','  '))"
   ]
  },
  {
   "cell_type": "markdown",
   "id": "e63c0419",
   "metadata": {},
   "source": [
    "### <span style=\"color:crimson\"> <span  style=\"font-family:arial\"> *Collect data in table*</span> </span>"
   ]
  },
  {
   "cell_type": "code",
   "execution_count": 153,
   "id": "47e997c1",
   "metadata": {},
   "outputs": [],
   "source": [
    "fruits=[]\n",
    "for i in range(len(fruits_price)):\n",
    "    fruit_info={}\n",
    "    fruit_info[\"Title\"]=fruits_name[i]\n",
    "    fruit_info[\"Price\"]=fruits_price[i]\n",
    "    fruit_info[\"Description\"]=fruits_desc[i]\n",
    "    fruits.append(fruit_info)"
   ]
  },
  {
   "cell_type": "code",
   "execution_count": 154,
   "id": "804bcac2",
   "metadata": {},
   "outputs": [
    {
     "data": {
      "text/html": [
       "<div>\n",
       "<style scoped>\n",
       "    .dataframe tbody tr th:only-of-type {\n",
       "        vertical-align: middle;\n",
       "    }\n",
       "\n",
       "    .dataframe tbody tr th {\n",
       "        vertical-align: top;\n",
       "    }\n",
       "\n",
       "    .dataframe thead th {\n",
       "        text-align: right;\n",
       "    }\n",
       "</style>\n",
       "<table border=\"1\" class=\"dataframe\">\n",
       "  <thead>\n",
       "    <tr style=\"text-align: right;\">\n",
       "      <th></th>\n",
       "      <th>Title</th>\n",
       "      <th>Price</th>\n",
       "      <th>Description</th>\n",
       "    </tr>\n",
       "  </thead>\n",
       "  <tbody>\n",
       "    <tr>\n",
       "      <th>0</th>\n",
       "      <td>Prune rouge/noire 1Kg - FILIÈRE EXCLUSIVE M</td>\n",
       "      <td>14,95 DH</td>\n",
       "      <td>Prune rouge/noire vendue et préparée au KG.  L...</td>\n",
       "    </tr>\n",
       "    <tr>\n",
       "      <th>1</th>\n",
       "      <td>Pêche gros calibre 1Kg - FILIÈRE EXCLUSIVE M</td>\n",
       "      <td>17,95 DH</td>\n",
       "      <td>Pêche gros calibre vendue et préparée au KG.  ...</td>\n",
       "    </tr>\n",
       "    <tr>\n",
       "      <th>2</th>\n",
       "      <td>Abricot 500g - FILIÈRE EXCLUSIVE M</td>\n",
       "      <td>7,95 DH</td>\n",
       "      <td>Abricot vendu et préparé par 500g.    * Images...</td>\n",
       "    </tr>\n",
       "    <tr>\n",
       "      <th>3</th>\n",
       "      <td>Ananas à la pièce</td>\n",
       "      <td>19,95 DH</td>\n",
       "      <td>Ananas vendu et préparé à la pièce.     * Imag...</td>\n",
       "    </tr>\n",
       "  </tbody>\n",
       "</table>\n",
       "</div>"
      ],
      "text/plain": [
       "                                          Title     Price  \\\n",
       "0   Prune rouge/noire 1Kg - FILIÈRE EXCLUSIVE M  14,95 DH   \n",
       "1  Pêche gros calibre 1Kg - FILIÈRE EXCLUSIVE M  17,95 DH   \n",
       "2            Abricot 500g - FILIÈRE EXCLUSIVE M   7,95 DH   \n",
       "3                             Ananas à la pièce  19,95 DH   \n",
       "\n",
       "                                         Description  \n",
       "0  Prune rouge/noire vendue et préparée au KG.  L...  \n",
       "1  Pêche gros calibre vendue et préparée au KG.  ...  \n",
       "2  Abricot vendu et préparé par 500g.    * Images...  \n",
       "3  Ananas vendu et préparé à la pièce.     * Imag...  "
      ]
     },
     "execution_count": 154,
     "metadata": {},
     "output_type": "execute_result"
    }
   ],
   "source": [
    "df_fruit=pd.DataFrame(fruits,columns=['Title','Price','Description'])\n",
    "df_fruit.head(4)"
   ]
  },
  {
   "cell_type": "markdown",
   "id": "26cf438f",
   "metadata": {},
   "source": [
    "# <span style=\"color:OrangeRed\"> <span  style=\"font-family:Times New Roman\"> *Exporting Data*</span> </span>"
   ]
  },
  {
   "cell_type": "code",
   "execution_count": 155,
   "id": "a56bec23",
   "metadata": {},
   "outputs": [],
   "source": [
    "Marjane_Fruits=df_fruit.to_excel('Marjane_Fruits.xlsx',encoding=\"utf-8\",engine=\"xlsxwriter\",index=False)\n",
    "Marjane_Fruits"
   ]
  },
  {
   "cell_type": "code",
   "execution_count": null,
   "id": "827f07fc",
   "metadata": {},
   "outputs": [],
   "source": []
  }
 ],
 "metadata": {
  "kernelspec": {
   "display_name": "Python 3",
   "language": "python",
   "name": "python3"
  },
  "language_info": {
   "codemirror_mode": {
    "name": "ipython",
    "version": 3
   },
   "file_extension": ".py",
   "mimetype": "text/x-python",
   "name": "python",
   "nbconvert_exporter": "python",
   "pygments_lexer": "ipython3",
   "version": "3.8.8"
  }
 },
 "nbformat": 4,
 "nbformat_minor": 5
}
